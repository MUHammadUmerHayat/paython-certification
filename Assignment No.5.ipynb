{
 "cells": [
  {
   "cell_type": "code",
   "execution_count": 5,
   "metadata": {},
   "outputs": [
    {
     "name": "stdout",
     "output_type": "stream",
     "text": [
      "39916800\n"
     ]
    }
   ],
   "source": [
    "#Question:1\n",
    "# Write a Python function to calculate the factorial of a number (a non-negative\n",
    "# integer). The function accepts the number as an argument.\n",
    "\n",
    "def factorial(n):\n",
    "   if n == 1:\n",
    "       return n;\n",
    "   else:\n",
    "       return n * factorial(n-1);\n",
    "\n",
    "\n",
    "num = 11;\n",
    "print(factorial(num));"
   ]
  },
  {
   "cell_type": "code",
   "execution_count": 11,
   "metadata": {},
   "outputs": [
    {
     "name": "stdout",
     "output_type": "stream",
     "text": [
      "Upper case letters are: 4\n",
      "lower case letters are: 22\n"
     ]
    }
   ],
   "source": [
    "#Question:2\n",
    "# Write a Python function that accepts a string and calculate the number of upper\n",
    "# case letters and lower case letters.\n",
    "\n",
    "def calculate_up_low(string):\n",
    "    uppers = 0;\n",
    "    lowers = 0;\n",
    "    for char in string:\n",
    "        if char.islower():\n",
    "            lowers += 1;\n",
    "        elif char.isupper():\n",
    "            uppers +=1;\n",
    "\n",
    "    print('Upper case letters are:', uppers);\n",
    "    print('lower case letters are:', lowers);\n",
    "\n",
    "calculate_up_low('My name is Muhammad Irfan Afzal');"
   ]
  },
  {
   "cell_type": "code",
   "execution_count": 16,
   "metadata": {},
   "outputs": [
    {
     "name": "stdout",
     "output_type": "stream",
     "text": [
      "2\n",
      "10\n",
      "66\n"
     ]
    }
   ],
   "source": [
    "#Question:3\n",
    "# Write a Python function to print the even numbers from a given list.\n",
    "\n",
    "listA = [2, 5, 7, 10, 21, 45, 66, 93];\n",
    "for num in listA: \n",
    "    if num % 2 == 0: \n",
    "        print(num);"
   ]
  },
  {
   "cell_type": "code",
   "execution_count": 24,
   "metadata": {},
   "outputs": [
    {
     "name": "stdout",
     "output_type": "stream",
     "text": [
      "True\n",
      "False\n"
     ]
    }
   ],
   "source": [
    "#Question:4\n",
    "# Write a Python function that checks whether a passed string is palindrome or not.\n",
    "# Note: A palindrome is a word, phrase, or sequence that reads the same\n",
    "# backward as forward, e.g., madam\n",
    "\n",
    "def isPalindrome(string):\n",
    "    left_pos = 0;\n",
    "    right_pos = len(string) - 1;\n",
    "\n",
    "    while right_pos >= left_pos:\n",
    "        if string[left_pos] != string[right_pos]:\n",
    "            return False;\n",
    "        left_pos += 1;\n",
    "        right_pos -= 1;\n",
    "        \n",
    "    return True;\n",
    "\n",
    "print(isPalindrome('madam'));\n",
    "print(isPalindrome('yahoo'));"
   ]
  },
  {
   "cell_type": "code",
   "execution_count": 46,
   "metadata": {},
   "outputs": [
    {
     "name": "stdout",
     "output_type": "stream",
     "text": [
      "True\n"
     ]
    }
   ],
   "source": [
    "#Question:5\n",
    "# Write a Python function that takes a number as a parameter and check the\n",
    "# number is prime or not.\n",
    "\n",
    "def is_prime(n):\n",
    "    if (n <= 1):\n",
    "        return False;\n",
    "    elif (n==2):\n",
    "        return True;\n",
    "    else:\n",
    "        for x in range(2,n):\n",
    "            if(n % x==0):\n",
    "                return False;\n",
    "        return True;  \n",
    "    \n",
    "\n",
    "print(is_prime(67));"
   ]
  },
  {
   "cell_type": "code",
   "execution_count": 48,
   "metadata": {},
   "outputs": [
    {
     "name": "stdout",
     "output_type": "stream",
     "text": [
      "Orange\n",
      "Banana\n",
      "Apple\n",
      "Grapes\n",
      "Cooking Oil\n",
      "Chicken 1Kg\n",
      "Diapers\n"
     ]
    }
   ],
   "source": [
    "#Question: 6\n",
    "# Suppose a customer is shopping in a market and you need to print all the items\n",
    "# which user bought from market.\n",
    "# Write a function which accepts the multiple arguments of user shopping list and\n",
    "# print all the items which user bought from market.\n",
    "#    (Hint: Arbitrary Argument concept can make this task ease)\n",
    "\n",
    "def shoping_list(*items):\n",
    "   for item in items:\n",
    "       print(item);\n",
    "\n",
    "shoping_list(\"Orange\",\"Banana\",\"Apple\",\"Grapes\",\"Cooking Oil\",\"Chicken 1Kg\",\"Diapers\");"
   ]
  },
  {
   "cell_type": "code",
   "execution_count": null,
   "metadata": {},
   "outputs": [],
   "source": []
  }
 ],
 "metadata": {
  "kernelspec": {
   "display_name": "Python 3",
   "language": "python",
   "name": "python3"
  },
  "language_info": {
   "codemirror_mode": {
    "name": "ipython",
    "version": 3
   },
   "file_extension": ".py",
   "mimetype": "text/x-python",
   "name": "python",
   "nbconvert_exporter": "python",
   "pygments_lexer": "ipython3",
   "version": "3.7.4"
  }
 },
 "nbformat": 4,
 "nbformat_minor": 2
}
