{
 "cells": [
  {
   "cell_type": "code",
   "execution_count": 21,
   "metadata": {},
   "outputs": [
    {
     "name": "stdout",
     "output_type": "stream",
     "text": [
      "Can not devide by zero\n"
     ]
    }
   ],
   "source": [
    "num1 = 5;\n",
    "num2 = 0;\n",
    "\n",
    "try:\n",
    "    ans = num1 / num2;\n",
    "except ZeroDivisionError:\n",
    "    print(\"Can not devide by zero\");\n",
    "else:\n",
    "    print(ans);"
   ]
  },
  {
   "cell_type": "code",
   "execution_count": 30,
   "metadata": {},
   "outputs": [],
   "source": [
    "# Write file, over write whole file\n",
    "filePath = 'Folder/sample.txt';\n",
    "with open(filePath, 'w') as txtFile:\n",
    "    txtFile.write('''123\n",
    "789\n",
    "ABC\n",
    "abc\n",
    "''');"
   ]
  },
  {
   "cell_type": "code",
   "execution_count": 31,
   "metadata": {},
   "outputs": [],
   "source": [
    "filePath = 'Folder/sample.txt';\n",
    "with open(filePath, 'a') as txtFile:\n",
    "    txtFile.write('000');"
   ]
  },
  {
   "cell_type": "code",
   "execution_count": 32,
   "metadata": {},
   "outputs": [
    {
     "name": "stdout",
     "output_type": "stream",
     "text": [
      "File path is not correct!\n"
     ]
    }
   ],
   "source": [
    "filePath = 'Folder/sample2.txt';\n",
    "try:\n",
    "    with open(filePath) as txtFile:\n",
    "        contents = txtFile.read();\n",
    "except FileNotFoundError:\n",
    "    print('File path is not correct!');\n",
    "else:\n",
    "    print(contents.rstrip());"
   ]
  },
  {
   "cell_type": "code",
   "execution_count": 33,
   "metadata": {},
   "outputs": [
    {
     "name": "stdout",
     "output_type": "stream",
     "text": [
      "123\n",
      "789\n",
      "ABC\n",
      "abc\n",
      "000\n",
      "123789ABCabc000\n",
      "123789...\n"
     ]
    }
   ],
   "source": [
    "filePath = 'Folder/sample.txt';\n",
    "with open(filePath) as txtFile:\n",
    "    contents = txtFile.readlines();\n",
    "\n",
    "inlineContents = '';\n",
    "for line in contents:\n",
    "    inlineContents += line.rstrip();\n",
    "    print(line.rstrip());\n",
    "    \n",
    "print(inlineContents);\n",
    "print(inlineContents[:6]+'...');"
   ]
  },
  {
   "cell_type": "code",
   "execution_count": 27,
   "metadata": {},
   "outputs": [
    {
     "name": "stdout",
     "output_type": "stream",
     "text": [
      "File path is not correct!\n"
     ]
    }
   ],
   "source": [
    "import csv;\n",
    "\n",
    "try:\n",
    "    with open('Folder/data.csv') as csvFile:\n",
    "        contents = csv.reader(csvFile);\n",
    "except FileNotFoundError:\n",
    "    print('File path is not correct!');\n",
    "else:\n",
    "    for line in contents:\n",
    "        print(line);"
   ]
  },
  {
   "cell_type": "code",
   "execution_count": 41,
   "metadata": {},
   "outputs": [
    {
     "name": "stdout",
     "output_type": "stream",
     "text": [
      "6\n",
      "5\n",
      "9\n"
     ]
    }
   ],
   "source": [
    "import math;\n",
    "\n",
    "print(math.ceil(5.6));\n",
    "print(math.floor(5.6));\n",
    "print(round(8.6));"
   ]
  },
  {
   "cell_type": "code",
   "execution_count": 29,
   "metadata": {},
   "outputs": [
    {
     "name": "stdout",
     "output_type": "stream",
     "text": [
      "3.141592653589793\n"
     ]
    }
   ],
   "source": [
    "from math import pi;\n",
    "print(pi);"
   ]
  },
  {
   "cell_type": "code",
   "execution_count": 54,
   "metadata": {},
   "outputs": [
    {
     "name": "stdout",
     "output_type": "stream",
     "text": [
      "7\n"
     ]
    }
   ],
   "source": [
    "import import_ipynb;\n",
    "from Folder import sum_module as sm\n",
    "\n",
    "print(sm.add(2, 5));"
   ]
  },
  {
   "cell_type": "code",
   "execution_count": null,
   "metadata": {},
   "outputs": [],
   "source": []
  }
 ],
 "metadata": {
  "kernelspec": {
   "display_name": "Python 3",
   "language": "python",
   "name": "python3"
  },
  "language_info": {
   "codemirror_mode": {
    "name": "ipython",
    "version": 3
   },
   "file_extension": ".py",
   "mimetype": "text/x-python",
   "name": "python",
   "nbconvert_exporter": "python",
   "pygments_lexer": "ipython3",
   "version": "3.7.4"
  }
 },
 "nbformat": 4,
 "nbformat_minor": 2
}
