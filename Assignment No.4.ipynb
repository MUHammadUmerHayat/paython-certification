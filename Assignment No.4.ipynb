{
 "cells": [
  {
   "cell_type": "code",
   "execution_count": 4,
   "metadata": {},
   "outputs": [
    {
     "name": "stdout",
     "output_type": "stream",
     "text": [
      "{'first_name': 'Usman', 'last_name': 'Afzal', 'age': '22', 'city': 'Faisalabad'}\n",
      "first_name : Usman\n",
      "last_name : Afzal\n",
      "age : 22\n",
      "city : Faisalabad\n",
      "{'first_name': 'Usman', 'last_name': 'Afzal', 'age': '22', 'city': 'Faisalabad', 'qualification': 'Matric'}\n",
      "{'first_name': 'Usman', 'last_name': 'Afzal', 'age': '22', 'city': 'Faisalabad', 'qualification': 'PHD'}\n",
      "{'first_name': 'Usman', 'last_name': 'Afzal', 'age': '22', 'city': 'Faisalabad'}\n"
     ]
    }
   ],
   "source": [
    "#Question1:\n",
    "# Use a dictionary to store information about a person you know. \n",
    "# Store their first name, last name, age, and the city in which they live. \n",
    "# You should have keys such as first_name, last_name, age, and city. \n",
    "# Print each piece of information stored in your dictionary. \n",
    "# Add a new key value pair about qualification then update the qualification \n",
    "# value to high academic level then delete it.\n",
    "\n",
    "user = {\"first_name\":\"Usman\", \"last_name\":\"Afzal\", \"age\":\"22\", \"city\":\"Faisalabad\"};\n",
    "print(user);\n",
    "for index, val in user.items():\n",
    "    print(index+' : '+val);\n",
    "    \n",
    "user[\"qualification\"] = \"Matric\";\n",
    "print(user);\n",
    "user[\"qualification\"] = \"PHD\";\n",
    "print(user);\n",
    "del(user[\"qualification\"]);\n",
    "print(user);"
   ]
  },
  {
   "cell_type": "code",
   "execution_count": 7,
   "metadata": {},
   "outputs": [
    {
     "name": "stdout",
     "output_type": "stream",
     "text": [
      "\n",
      "Tokyo is in Japan.\n",
      "It has a population of about 38140000.\n",
      "It is most populated city in the world\n",
      "\n",
      "Talkeetna is in Alaska.\n",
      "It has a population of about 876.\n",
      "It is near alaska range mountains\n",
      "\n",
      "Karachi is in Pakistan.\n",
      "It has a population of about 1003285.\n",
      "It is most populated city in the Pakistan\n"
     ]
    }
   ],
   "source": [
    "#Question2:\n",
    "# Make a dictionary called cities. \n",
    "# Use the names of three cities as keys in your dictionary. \n",
    "# Create a dictionary of information about each city and include the country that the city is in, \n",
    "# its approximate population, and one fact about that city. \n",
    "# The keys for each city’s dictionary should be something like country, population, and fact. \n",
    "# Print the name of each city and all of the information you have stored about it.\n",
    "\n",
    "cities = {\n",
    "    'Tokyo': {\n",
    "        'country': 'Japan',\n",
    "        'population': 38140000,\n",
    "        'fact': 'It is most populated city in the world',\n",
    "        },\n",
    "    'Talkeetna': {\n",
    "        'country': 'Alaska',\n",
    "        'population': 876,\n",
    "        'fact': 'It is near alaska range mountains',\n",
    "        },\n",
    "    'Karachi': {\n",
    "        'country': 'Pakistan',\n",
    "        'population': 1003285,\n",
    "        'fact': 'It is most populated city in the Pakistan',\n",
    "        }\n",
    "    }\n",
    "\n",
    "for city, city_info in cities.items():\n",
    "    country = city_info['country'];\n",
    "    population = city_info['population'];\n",
    "    fact = city_info['fact'];\n",
    "\n",
    "    print(\"\\n\" + city.title() + \" is in \" + country + \".\");\n",
    "    print(\"It has a population of about \" + str(population) + \".\");\n",
    "    print(fact);"
   ]
  },
  {
   "cell_type": "code",
   "execution_count": 8,
   "metadata": {},
   "outputs": [
    {
     "name": "stdout",
     "output_type": "stream",
     "text": [
      "How old are you? \n",
      "Enter 'quit' when you are finished. 5\n",
      "  Your ticket is $10.\n",
      "How old are you? \n",
      "Enter 'quit' when you are finished. 13\n",
      "  Your ticket is $15.\n",
      "How old are you? \n",
      "Enter 'quit' when you are finished. quit\n"
     ]
    }
   ],
   "source": [
    "#Question3:\n",
    "# A movie theater charges different ticket prices depending on a person’s age. \n",
    "# If a person is under the age of 3, the ticket is free; \n",
    "# if they are between 3 and 12, the ticket is $10; \n",
    "# and if they are over age 12, the ticket is $15. \n",
    "# Write a loop in which you ask users their age, \n",
    "# and then tell them the cost of their movie ticket.\n",
    "\n",
    "prompt = \"How old are you? \\nEnter 'quit' when you are finished. \"\n",
    "\n",
    "while True:\n",
    "    age = input(prompt)\n",
    "    if age == 'quit':\n",
    "        break\n",
    "        \n",
    "    age = int(age)\n",
    "    if age < 3:\n",
    "        print(\"  You get in free!\")\n",
    "    elif age < 13:\n",
    "        print(\"  Your ticket is $10.\")\n",
    "    else:\n",
    "        print(\"  Your ticket is $15.\")"
   ]
  },
  {
   "cell_type": "code",
   "execution_count": 10,
   "metadata": {},
   "outputs": [
    {
     "name": "stdout",
     "output_type": "stream",
     "text": [
      "One of my favorite books is Alice in Wonderland.\n"
     ]
    }
   ],
   "source": [
    "#Question4:\n",
    "# Write a function called favorite_book() that accepts one parameter, title. \n",
    "# The function should print a message, such as One of my favorite books is Alice in Wonderland. \n",
    "# Call the function, making sure to include a book title as an argument in the function call.\n",
    "\n",
    "def favorite_book(title):\n",
    "    print(\"One of my favorite books is \"+title+\".\");\n",
    "\n",
    "favorite_book('Alice in Wonderland');"
   ]
  },
  {
   "cell_type": "code",
   "execution_count": 15,
   "metadata": {},
   "outputs": [
    {
     "name": "stdout",
     "output_type": "stream",
     "text": [
      "Random number has been generated.\n",
      "Guess a number from 1 to 30 : 20\n",
      "Your guess is lesser than number.\n",
      "Guess a number from 1 to 30 : 25\n",
      "Well done!. Your guess is correct.\n"
     ]
    }
   ],
   "source": [
    "#Question5:\n",
    "# Guess the number game\n",
    "# Write a program which randomly generate a number between 1 to 30 \n",
    "# and ask the user in input field to guess the correct number. \n",
    "# Give three chances to user guess the number and also give hint to user \n",
    "# if hidden number is greater or smaller than the number he given to input field.\n",
    "\n",
    "import random\n",
    "minNumber = 0;\n",
    "maxNumber = 31;\n",
    "random_number = random.randrange(minNumber, maxNumber);\n",
    "print(\"Random number has been generated.\")\n",
    "\n",
    "tries = 0;\n",
    "while tries < 3:\n",
    "    tries += 1;\n",
    "    user_input = int(input(\"Guess a number from 1 to 30 : \"));\n",
    "        \n",
    "    if user_input == random_number:\n",
    "        print(\"Well done!. Your guess is correct.\");\n",
    "        break;\n",
    "    elif user_input > random_number:\n",
    "        print(\"Your guess is grater than number.\");\n",
    "    elif user_input < random_number:\n",
    "        print(\"Your guess is lesser than number.\");\n",
    "    elif not minNumber <= user_input <= maxNumber:\n",
    "        print(\"Our guess range is between \"+minNumber+\" and \"+maxNumber);\n",
    "\n"
   ]
  },
  {
   "cell_type": "code",
   "execution_count": null,
   "metadata": {},
   "outputs": [],
   "source": []
  },
  {
   "cell_type": "code",
   "execution_count": null,
   "metadata": {},
   "outputs": [],
   "source": []
  }
 ],
 "metadata": {
  "kernelspec": {
   "display_name": "Python 3",
   "language": "python",
   "name": "python3"
  },
  "language_info": {
   "codemirror_mode": {
    "name": "ipython",
    "version": 3
   },
   "file_extension": ".py",
   "mimetype": "text/x-python",
   "name": "python",
   "nbconvert_exporter": "python",
   "pygments_lexer": "ipython3",
   "version": "3.7.4"
  }
 },
 "nbformat": 4,
 "nbformat_minor": 2
}
