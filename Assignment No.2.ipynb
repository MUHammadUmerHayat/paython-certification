{
 "cells": [
  {
   "cell_type": "code",
   "execution_count": 8,
   "metadata": {},
   "outputs": [
    {
     "name": "stdout",
     "output_type": "stream",
     "text": [
      "Enter marks of the first subject: 67\n",
      "Enter marks of the second subject: 74\n",
      "Enter marks of the third subject: 89\n",
      "Enter marks of the fourth subject: 98\n",
      "Enter marks of the fifth subject: 45\n",
      "Total Marks are : 426\n",
      "Total percentage is : 85\n",
      "Grade: A+\n"
     ]
    }
   ],
   "source": [
    "sub1 = int(input(\"Enter marks of the first subject: \"));\n",
    "sub2 = int(input(\"Enter marks of the second subject: \"));\n",
    "sub3 = int(input(\"Enter marks of the third subject: \"));\n",
    "sub4 = int(input(\"Enter marks of the fourth subject: \"));\n",
    "sub5 = int(input(\"Enter marks of the fifth subject: \"));\n",
    "\n",
    "total = sub1 + sub2 + sub3 + sub4 + sub4;\n",
    "print(\"Total Marks are : {0}\".format(total));\n",
    "avg = total // 5;\n",
    "print(\"Total percentage is : {0}\".format(avg));\n",
    "\n",
    "if(avg >= 80 and avg <= 100):\n",
    "    print(\"Grade: A+\");\n",
    "elif(avg >= 70 and avg < 80):\n",
    "    print(\"Grade: A\");\n",
    "elif(avg >= 60 and avg < 70):\n",
    "    print(\"Grade: B\");\n",
    "elif(avg >= 50 and avg < 60):\n",
    "    print(\"Grade: C\");\n",
    "elif(avg >= 40 and avg < 50):\n",
    "    print(\"Grade: D\");\n",
    "elif(avg >= 33 and avg < 40):\n",
    "    print(\"Grade: E\");\n",
    "elif(avg >= 0 and avg < 33):\n",
    "    print(\"Grade: F\");\n",
    "else:\n",
    "    print(\"You have provide wrong marks\");"
   ]
  },
  {
   "cell_type": "code",
   "execution_count": 5,
   "metadata": {},
   "outputs": [
    {
     "name": "stdout",
     "output_type": "stream",
     "text": [
      "Enter Number :56\n",
      "56 is Even number\n"
     ]
    }
   ],
   "source": [
    "num = int(input('Enter Number :'));\n",
    "if (num % 2) == 0:  \n",
    "   print(\"{0} is Even number\".format(num)); \n",
    "else:  \n",
    "   print(\"{0} is Odd number\".format(num));"
   ]
  },
  {
   "cell_type": "code",
   "execution_count": 10,
   "metadata": {},
   "outputs": [
    {
     "name": "stdout",
     "output_type": "stream",
     "text": [
      "Number of items in the listA is  8\n"
     ]
    }
   ],
   "source": [
    "listA = [1, 5, 9, 'x','y','z', 20, 25];\n",
    "print(\"Number of items in the listA is \", len(listA));"
   ]
  },
  {
   "cell_type": "code",
   "execution_count": 15,
   "metadata": {},
   "outputs": [
    {
     "name": "stdout",
     "output_type": "stream",
     "text": [
      "Sum of all elements in listB: 60\n"
     ]
    }
   ],
   "source": [
    "listB = [1, 5, 9, 20, 25];\n",
    "print(\"Sum of all elements in listB:\", sum(listB));"
   ]
  },
  {
   "cell_type": "code",
   "execution_count": 14,
   "metadata": {},
   "outputs": [
    {
     "name": "stdout",
     "output_type": "stream",
     "text": [
      "Largest element is: 400\n"
     ]
    }
   ],
   "source": [
    "list1 = [105, 20, 400, 45, 99];\n",
    "print(\"Largest element is:\", max(list1));"
   ]
  },
  {
   "cell_type": "code",
   "execution_count": 16,
   "metadata": {},
   "outputs": [
    {
     "name": "stdout",
     "output_type": "stream",
     "text": [
      "1\n",
      "1\n",
      "2\n",
      "3\n"
     ]
    }
   ],
   "source": [
    "a = [1, 1, 2, 3, 5, 8, 13, 21, 34, 55, 89];\n",
    "for i in a:\n",
    "    if i < 5:\n",
    "        print(i)"
   ]
  },
  {
   "cell_type": "code",
   "execution_count": null,
   "metadata": {},
   "outputs": [],
   "source": []
  }
 ],
 "metadata": {
  "kernelspec": {
   "display_name": "Python 3",
   "language": "python",
   "name": "python3"
  },
  "language_info": {
   "codemirror_mode": {
    "name": "ipython",
    "version": 3
   },
   "file_extension": ".py",
   "mimetype": "text/x-python",
   "name": "python",
   "nbconvert_exporter": "python",
   "pygments_lexer": "ipython3",
   "version": "3.7.4"
  }
 },
 "nbformat": 4,
 "nbformat_minor": 2
}
