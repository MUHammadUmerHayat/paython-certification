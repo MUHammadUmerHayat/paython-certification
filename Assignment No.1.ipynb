{
 "cells": [
  {
   "cell_type": "code",
   "execution_count": 1,
   "metadata": {},
   "outputs": [
    {
     "name": "stdout",
     "output_type": "stream",
     "text": [
      "Twinkle, twinkle, little star,\n",
      "      How I wonder what you are!\n",
      "             Up above the world so high,\n",
      "Like a diamond in the sky.\n",
      "Twinkle, twinkle, little star,\n",
      "      How I wonder what you are\n"
     ]
    }
   ],
   "source": [
    "a = '''Twinkle, twinkle, little star,\n",
    "      How I wonder what you are!\n",
    "             Up above the world so high,\n",
    "Like a diamond in the sky.\n",
    "Twinkle, twinkle, little star,\n",
    "      How I wonder what you are''';\n",
    "print(a);"
   ]
  },
  {
   "cell_type": "code",
   "execution_count": 11,
   "metadata": {},
   "outputs": [
    {
     "name": "stdout",
     "output_type": "stream",
     "text": [
      "3.7.4 (default, Aug 13 2019, 15:17:50) \n",
      "[Clang 4.0.1 (tags/RELEASE_401/final)]\n"
     ]
    }
   ],
   "source": [
    "import sys;\n",
    "print(sys.version);"
   ]
  },
  {
   "cell_type": "code",
   "execution_count": 10,
   "metadata": {},
   "outputs": [
    {
     "name": "stdout",
     "output_type": "stream",
     "text": [
      "3.7.4\n"
     ]
    }
   ],
   "source": [
    "import platform;\n",
    "print(platform.python_version());"
   ]
  },
  {
   "cell_type": "code",
   "execution_count": 15,
   "metadata": {},
   "outputs": [
    {
     "name": "stdout",
     "output_type": "stream",
     "text": [
      "2019-11-05 11:00:04.728290\n",
      "Tuesday 05 November, 2019 11:00:04 AM\n"
     ]
    }
   ],
   "source": [
    "import datetime;\n",
    "x = datetime.datetime.now();\n",
    "print(x);\n",
    "print(x.strftime(\"%A %d %B, %Y %I:%M:%S %p\"));"
   ]
  },
  {
   "cell_type": "code",
   "execution_count": 19,
   "metadata": {},
   "outputs": [
    {
     "name": "stdout",
     "output_type": "stream",
     "text": [
      "Enter the radius of the circle :5\n",
      "Area of the circle is : 78.50\n"
     ]
    }
   ],
   "source": [
    "PI = 3.14;\n",
    "r = float(input('Enter the radius of the circle :'));\n",
    "area = PI * r * r;\n",
    "print(\"Area of the circle is : %.2f\" %area);"
   ]
  },
  {
   "cell_type": "code",
   "execution_count": 1,
   "metadata": {},
   "outputs": [
    {
     "name": "stdout",
     "output_type": "stream",
     "text": [
      "Enter your First Name :Muhammad Irfan\n",
      "Enter your Last Name :Afzal\n",
      "Afzal Muhammad Irfan\n"
     ]
    }
   ],
   "source": [
    "firstName = input('Enter your First Name :');\n",
    "lastName = input('Enter your Last Name :');\n",
    "fullName = lastName+' '+firstName;\n",
    "print(fullName);"
   ]
  },
  {
   "cell_type": "code",
   "execution_count": 3,
   "metadata": {},
   "outputs": [
    {
     "name": "stdout",
     "output_type": "stream",
     "text": [
      "Enter First Number :5\n",
      "Enter Second Number :55\n",
      "60\n"
     ]
    }
   ],
   "source": [
    "firstNumber = int(input('Enter First Number :'));\n",
    "SecondNumber = int(input('Enter Second Number :'));\n",
    "print(firstNumber + SecondNumber);"
   ]
  },
  {
   "cell_type": "code",
   "execution_count": null,
   "metadata": {},
   "outputs": [],
   "source": []
  }
 ],
 "metadata": {
  "kernelspec": {
   "display_name": "Python 3",
   "language": "python",
   "name": "python3"
  },
  "language_info": {
   "codemirror_mode": {
    "name": "ipython",
    "version": 3
   },
   "file_extension": ".py",
   "mimetype": "text/x-python",
   "name": "python",
   "nbconvert_exporter": "python",
   "pygments_lexer": "ipython3",
   "version": "3.7.4"
  }
 },
 "nbformat": 4,
 "nbformat_minor": 2
}
