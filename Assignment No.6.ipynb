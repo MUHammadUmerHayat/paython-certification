{
 "cells": [
  {
   "cell_type": "markdown",
   "metadata": {},
   "source": [
    "Question 1:\n",
    "    Define Object Oriented Programming Language?\n",
    "    \n",
    "Answer:\n",
    "    Object-oriented programming is one of the most effective approaches to writing software. In object-oriented programming you write classes that represent real-world things and situations, and you create objects based on these\n",
    "classes. When you write a class, you define the general behavior that a whole category of objects can have."
   ]
  },
  {
   "cell_type": "markdown",
   "metadata": {},
   "source": [
    "Question 2:\n",
    "    List down the Benefits of OOP?\n",
    "    \n",
    "Answer:\n",
    "    1. modular structure \n",
    "    2. code reuseability \n",
    "    3. It makes software easier to maintain. \n",
    "    4. Reuse also enables faster development. \n",
    "    5. It provides a good framework for code libraries.\n",
    "    "
   ]
  },
  {
   "cell_type": "markdown",
   "metadata": {},
   "source": [
    "Question 3:\n",
    "    Differentiate between function and method?\n",
    "    \n",
    "Answer:\n",
    "    A function is a piece of code that is called by name. It can be passed data to operate on and can optionally return data. All data that is passed to a function is explicitly passed. \n",
    "    A method is a piece of code that is called by a name that is associated with an object. and method can get object's private data."
   ]
  },
  {
   "cell_type": "markdown",
   "metadata": {},
   "source": [
    "Question 4:\n",
    "    Define the following terms:\n",
    "    1. Class\n",
    "    2. Object\n",
    "    3. Attribute \n",
    "    4. Behavior\n",
    "\n",
    "Answer:\n",
    "    1. Class:\n",
    "        In object-oriented programming, a class is a blueprint for creating objects (a particular data structure), providing initial values for state (member variables or attributes), and implementations of behavior (member functions or methods). \n",
    "    2. Object:\n",
    "        An object is a component of a program that knows how to perform certain actions and how to interact with other elements of the program. Object is a intance of class.\n",
    "    3. Attribute:\n",
    "        In Object-oriented programming(OOP), classes and objects have attributes. Attributes are data stored inside a Object and represent the state of the Object. In short, attributes store information about the instance (Object).\n",
    "    4. Behavior:\n",
    "        A class's behavior determines how an instance of that class operates."
   ]
  },
  {
   "cell_type": "code",
   "execution_count": 6,
   "metadata": {},
   "outputs": [
    {
     "name": "stdout",
     "output_type": "stream",
     "text": [
      "2016 Audi A4\n",
      "2011 Nissan Leaf\n",
      "2010 Toyota Venza\n",
      "2011 Honda Cr-V\n",
      "2009 Acura Tsx\n",
      "\n",
      "\n",
      "2016 Audi A4\n",
      "This car has 900 miles on it.\n"
     ]
    }
   ],
   "source": [
    "#Question 5:\n",
    "# Write a code in python in which create a class named it Car \n",
    "# which have 5 attributes such like (model, color and name etc.) and 3 methods. \n",
    "# And create 5 object instance from that class.\n",
    "\n",
    "class Car():\n",
    "\n",
    "    def __init__(self, make, model, color, year):\n",
    "        self.make = make;\n",
    "        self.model = model;\n",
    "        self.color = color;\n",
    "        self.year = year;\n",
    "        self.odometer_reading = 0\n",
    "    \n",
    "    def get_descriptive_name(self):\n",
    "        long_name = str(self.year) + ' ' + self.make + ' ' + self.model;\n",
    "        return long_name.title();\n",
    "    \n",
    "    def read_odometer(self):\n",
    "        print(\"This car has \" + str(self.odometer_reading) + \" miles on it.\");\n",
    "\n",
    "    def update_odometer(self, mileage):\n",
    "        if mileage >= self.odometer_reading:\n",
    "            self.odometer_reading = mileage;\n",
    "        else:\n",
    "            print(\"You can't roll back an odometer!\");\n",
    "\n",
    "    def increment_odometer(self, miles): \n",
    "        self.odometer_reading += miles;\n",
    "    \n",
    "    \n",
    "car1 = Car('Audi', 'A4', 'White', 2016);\n",
    "car2 = Car('Nissan', 'Leaf', 'Black', 2011);\n",
    "car3 = Car('Toyota', 'Venza', 'Blue', 2010);\n",
    "car4 = Car('Honda', 'CR-V', 'Gray', 2011);\n",
    "car5 = Car('Acura', 'TSX', 'Red', 2009);\n",
    "\n",
    "print(car1.get_descriptive_name());\n",
    "print(car2.get_descriptive_name());\n",
    "print(car3.get_descriptive_name());\n",
    "print(car4.get_descriptive_name());\n",
    "print(car5.get_descriptive_name());\n",
    "\n",
    "print('\\n');\n",
    "print(car1.get_descriptive_name());\n",
    "car1.increment_odometer(900);\n",
    "car1.read_odometer();"
   ]
  },
  {
   "cell_type": "code",
   "execution_count": null,
   "metadata": {},
   "outputs": [],
   "source": []
  }
 ],
 "metadata": {
  "kernelspec": {
   "display_name": "Python 3",
   "language": "python",
   "name": "python3"
  },
  "language_info": {
   "codemirror_mode": {
    "name": "ipython",
    "version": 3
   },
   "file_extension": ".py",
   "mimetype": "text/x-python",
   "name": "python",
   "nbconvert_exporter": "python",
   "pygments_lexer": "ipython3",
   "version": "3.7.4"
  }
 },
 "nbformat": 4,
 "nbformat_minor": 2
}
