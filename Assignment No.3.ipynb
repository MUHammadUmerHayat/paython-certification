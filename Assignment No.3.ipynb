{
 "cells": [
  {
   "cell_type": "code",
   "execution_count": 1,
   "metadata": {},
   "outputs": [
    {
     "name": "stdout",
     "output_type": "stream",
     "text": [
      "Enter First Value : 2\n",
      "Enter Second Value : 3\n",
      "Enter Operator : ^\n",
      "Answer is :  8\n"
     ]
    }
   ],
   "source": [
    "#1. Make a calculator using Python with \n",
    "# addition , subtraction , multiplication , division and power.\n",
    "\n",
    "v1 = int(input('Enter First Value : '));\n",
    "v2 = int(input('Enter Second Value : '));\n",
    "operator = input('Enter Operator : ');\n",
    "\n",
    "if(operator == '+'):\n",
    "    v = v1 + v2;\n",
    "    print('Answer is : ', v);\n",
    "elif(operator == '-'):\n",
    "    v = v1 - v2;\n",
    "    print('Answer is : ', v);\n",
    "elif(operator == '*'):\n",
    "    v = v1 * v2;\n",
    "    print('Answer is : ', v);\n",
    "elif(operator == '/'):\n",
    "    v = v1 / v2;\n",
    "    print('Answer is : ', v);\n",
    "elif(operator == '**' or operator == '^'):\n",
    "    v = v1 ** v2;\n",
    "    print('Answer is : ', v);\n",
    "else : \n",
    "    print('Enter Correct Operator !!');"
   ]
  },
  {
   "cell_type": "code",
   "execution_count": 9,
   "metadata": {},
   "outputs": [
    {
     "name": "stdout",
     "output_type": "stream",
     "text": [
      "Provided List has a numaric value :  -15\n"
     ]
    }
   ],
   "source": [
    "#2. Write a program to check if there is any numeric value in list using for loop\n",
    "aList = ['abc', '10.3445', -15, 10.15, '34,0'];\n",
    "for item in aList:\n",
    "    if(isinstance(item, int)):\n",
    "        print('Provided List has a numaric value : ', item);\n",
    "        break;"
   ]
  },
  {
   "cell_type": "code",
   "execution_count": 10,
   "metadata": {},
   "outputs": [
    {
     "name": "stdout",
     "output_type": "stream",
     "text": [
      "{'first_name': 'Muhammad Irfan', 'last_name': 'Afzal', 'gender': 'male'}\n"
     ]
    }
   ],
   "source": [
    "#3. Write a Python script to add a key to a dictionary\n",
    "user = {\"first_name\":\"Muhammad Irfan\", \"last_name\":\"Afzal\"};\n",
    "user['gender'] = \"male\";\n",
    "print(user);"
   ]
  },
  {
   "cell_type": "code",
   "execution_count": 12,
   "metadata": {},
   "outputs": [
    {
     "name": "stdout",
     "output_type": "stream",
     "text": [
      "150\n"
     ]
    }
   ],
   "source": [
    "#4. Write a Python program to sum all the numeric items in a dictionary\n",
    "data = {6:15, 1:'40', 2:\"ABC\", 3:45, 12: 90};\n",
    "total_sum = 0;\n",
    "for val in data.values():\n",
    "    if(isinstance(val, int)):\n",
    "        total_sum += val;\n",
    "        \n",
    "print(total_sum);"
   ]
  },
  {
   "cell_type": "code",
   "execution_count": 22,
   "metadata": {},
   "outputs": [
    {
     "name": "stdout",
     "output_type": "stream",
     "text": [
      "2\n",
      "1\n",
      "5\n",
      "seen array: [1, 2, 3, 5, 6]\n",
      "duplicate values: [2, 1, 5]\n"
     ]
    }
   ],
   "source": [
    "#5. Write a program to identify duplicate values from list\n",
    "a = [1,2,3,2,1,5,6,5,5,5];\n",
    "seen = [];\n",
    "dup = [];\n",
    "for x in a:\n",
    "    if x in seen:\n",
    "        if x not in dup:\n",
    "            dup.append(x);\n",
    "            print(x);\n",
    "    else:\n",
    "        seen.append(x);\n",
    "\n",
    "print('seen array:', seen);\n",
    "print('duplicate values:', dup);"
   ]
  },
  {
   "cell_type": "code",
   "execution_count": 14,
   "metadata": {},
   "outputs": [
    {
     "name": "stdout",
     "output_type": "stream",
     "text": [
      "Key : gender2 dose not Exist in dictionary\n"
     ]
    }
   ],
   "source": [
    "#6. Write a Python script to check if a given key already exists in a dictionary\n",
    "user2 = {'first_name': 'Muhammad Irfan', 'last_name': 'Afzal', 'gender': 'male'};\n",
    "dic_key = 'gender2';\n",
    "\n",
    "if dic_key in user2.keys() :\n",
    "    print(\"Key : \"+dic_key+\" Exist in dictionary\");\n",
    "else:\n",
    "    print(\"Key : \"+dic_key+\" dose not Exist in dictionary\");"
   ]
  },
  {
   "cell_type": "code",
   "execution_count": null,
   "metadata": {},
   "outputs": [],
   "source": []
  }
 ],
 "metadata": {
  "kernelspec": {
   "display_name": "Python 3",
   "language": "python",
   "name": "python3"
  },
  "language_info": {
   "codemirror_mode": {
    "name": "ipython",
    "version": 3
   },
   "file_extension": ".py",
   "mimetype": "text/x-python",
   "name": "python",
   "nbconvert_exporter": "python",
   "pygments_lexer": "ipython3",
   "version": "3.7.4"
  }
 },
 "nbformat": 4,
 "nbformat_minor": 2
}
