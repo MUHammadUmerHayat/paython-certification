{
 "cells": [
  {
   "cell_type": "code",
   "execution_count": 13,
   "metadata": {},
   "outputs": [
    {
     "name": "stdout",
     "output_type": "stream",
     "text": [
      "[[-0.41888932  1.06206403  0.3412631 ]\n",
      " [ 0.2069835  -0.94539875  1.24575561]] \n",
      "\n",
      "[[-0.83777864  2.12412806  0.68252619]\n",
      " [ 0.413967   -1.89079751  2.49151122]] \n",
      "\n",
      "[[ 9.58111068 11.06206403 10.3412631 ]\n",
      " [10.2069835   9.05460125 11.24575561]] \n",
      "\n",
      "(2, 3) \n",
      "\n",
      "float64 \n",
      "\n",
      "2 \n",
      "\n"
     ]
    }
   ],
   "source": [
    "import numpy as np;\n",
    "\n",
    "data = np.random.randn(2, 3);\n",
    "print(data, '\\n');\n",
    "print(data + data, '\\n');\n",
    "print(data + 10, '\\n');\n",
    "print(data.shape, '\\n');\n",
    "print(data.dtype, '\\n');\n",
    "print(data.ndim, '\\n');"
   ]
  },
  {
   "cell_type": "code",
   "execution_count": 19,
   "metadata": {},
   "outputs": [
    {
     "name": "stdout",
     "output_type": "stream",
     "text": [
      "[0. 0. 0. 0. 0. 0. 0. 0. 0. 0.] \n",
      "\n",
      "[[0. 0. 0. 0. 0. 0.]\n",
      " [0. 0. 0. 0. 0. 0.]\n",
      " [0. 0. 0. 0. 0. 0.]] \n",
      "\n",
      "[[[0. 0. 0. 0.]\n",
      "  [0. 0. 0. 0.]\n",
      "  [0. 0. 0. 0.]]\n",
      "\n",
      " [[0. 0. 0. 0.]\n",
      "  [0. 0. 0. 0.]\n",
      "  [0. 0. 0. 0.]]] \n",
      "\n"
     ]
    }
   ],
   "source": [
    "print(np.zeros(10), '\\n');\n",
    "print(np.zeros((3, 6)), '\\n');\n",
    "print(np.zeros((2, 3, 4)), '\\n');"
   ]
  },
  {
   "cell_type": "code",
   "execution_count": 23,
   "metadata": {},
   "outputs": [
    {
     "name": "stdout",
     "output_type": "stream",
     "text": [
      "[[0. 0. 0. 0. 0. 0.]\n",
      " [0. 0. 0. 0. 0. 0.]\n",
      " [0. 0. 0. 0. 0. 0.]] \n",
      "\n"
     ]
    }
   ],
   "source": [
    "print(np.empty((3, 6)), '\\n');"
   ]
  },
  {
   "cell_type": "code",
   "execution_count": 25,
   "metadata": {},
   "outputs": [
    {
     "name": "stdout",
     "output_type": "stream",
     "text": [
      "[1. 2. 3. 4.]\n"
     ]
    }
   ],
   "source": [
    "arr = np.array([1,2,3,4]);\n",
    "print(arr.astype(np.float64));"
   ]
  },
  {
   "cell_type": "code",
   "execution_count": 38,
   "metadata": {},
   "outputs": [
    {
     "name": "stdout",
     "output_type": "stream",
     "text": [
      "[2 4 8] \n",
      "\n",
      "[ 4  8 16] \n",
      "\n",
      "[ 4 16 64] \n",
      "\n",
      "[1 2 4] \n",
      "\n",
      "[  8  64 512] \n",
      "\n",
      "[1.41421356 2.         2.82842712] \n",
      "\n",
      "[   7.3890561    54.59815003 2980.95798704] \n",
      "\n",
      "4.666666666666667 \n",
      "\n",
      "14 \n",
      "\n",
      "[ 2  6 14] \n",
      "\n",
      "[2 4 8] \n",
      "\n"
     ]
    }
   ],
   "source": [
    "arr = np.array([2, 4, 8], dtype='int64');\n",
    "print(arr, '\\n');\n",
    "print(arr * 2, '\\n');\n",
    "print(arr * arr, '\\n');\n",
    "print((arr / 2).astype(np.int64), '\\n');\n",
    "print(arr ** 3, '\\n');\n",
    "print(np.sqrt(arr), '\\n');\n",
    "print(np.exp(arr), '\\n');\n",
    "print(np.mean(arr), '\\n');\n",
    "print(np.sum(arr), '\\n');\n",
    "print(np.cumsum(arr), '\\n');\n",
    "print(np.sort(arr), '\\n');"
   ]
  },
  {
   "cell_type": "code",
   "execution_count": 40,
   "metadata": {},
   "outputs": [
    {
     "name": "stdout",
     "output_type": "stream",
     "text": [
      "[False False False  True]\n"
     ]
    }
   ],
   "source": [
    "arr = np.array([1, 2, 4, 8]);\n",
    "arr2 = np.array([5, 6, 8, 1]);\n",
    "print(arr > arr2);"
   ]
  },
  {
   "cell_type": "code",
   "execution_count": 46,
   "metadata": {},
   "outputs": [
    {
     "name": "stdout",
     "output_type": "stream",
     "text": [
      "[0 1 2 3 4 5 6 7 8 9]\n",
      "[5 6 7]\n",
      "[0 0 0 3 4 5 6 7 8 9]\n"
     ]
    }
   ],
   "source": [
    "arr = np.arange(10);\n",
    "print(arr);\n",
    "\n",
    "arr2 = arr[5:8];\n",
    "print(arr2);\n",
    "\n",
    "arr[:3]=0;\n",
    "print(arr);"
   ]
  },
  {
   "cell_type": "code",
   "execution_count": 58,
   "metadata": {},
   "outputs": [
    {
     "name": "stdout",
     "output_type": "stream",
     "text": [
      "['Irfan' 'Usman' 'Ali' 'Abdullah'] \n",
      "\n",
      "[[ 1.50846449 -0.19703401  0.06197425]\n",
      " [-0.45535631  1.51420397 -0.74754373]\n",
      " [ 0.23427486 -0.87134203 -0.01279989]\n",
      " [ 0.40263386  0.30876175  0.61154819]] \n",
      "\n",
      "[ True False False False] \n",
      "\n",
      "[[ 1.50846449 -0.19703401  0.06197425]] \n",
      "\n",
      "[[-0.45535631  1.51420397 -0.74754373]\n",
      " [ 0.23427486 -0.87134203 -0.01279989]\n",
      " [ 0.40263386  0.30876175  0.61154819]] \n",
      "\n",
      "['Abdullah' 'Ali' 'Irfan' 'Usman']\n"
     ]
    }
   ],
   "source": [
    "nameArr = np.array(['Irfan', 'Usman', 'Ali', 'Abdullah']);\n",
    "numArr = np.random.randn(4, 3);\n",
    "\n",
    "print(nameArr, '\\n');\n",
    "print(numArr, '\\n');\n",
    "\n",
    "print(nameArr == 'Irfan', '\\n');\n",
    "print(numArr[nameArr == 'Irfan'], '\\n');\n",
    "print(numArr[~(nameArr == 'Irfan')], '\\n');\n",
    "\n",
    "print(np.unique(nameArr));"
   ]
  },
  {
   "cell_type": "code",
   "execution_count": 59,
   "metadata": {},
   "outputs": [
    {
     "name": "stdout",
     "output_type": "stream",
     "text": [
      "[-0.30590616  0.12910442  0.97538446  0.52154849] \n",
      "\n",
      "[-1.15068533 -2.00276097  1.57355321  1.42891902] \n",
      "\n",
      "[-0.30590616  0.12910442  1.57355321  1.42891902] \n",
      "\n",
      "[-1.15068533 -2.00276097  0.97538446  0.52154849] \n",
      "\n"
     ]
    }
   ],
   "source": [
    "numArr1 = np.random.randn(4);\n",
    "print(numArr1, '\\n');\n",
    "\n",
    "numArr2 = np.random.randn(4);\n",
    "print(numArr2, '\\n');\n",
    "\n",
    "print(np.maximum(numArr1, numArr2), '\\n');\n",
    "print(np.minimum(numArr1, numArr2), '\\n');"
   ]
  },
  {
   "cell_type": "code",
   "execution_count": null,
   "metadata": {},
   "outputs": [],
   "source": []
  }
 ],
 "metadata": {
  "kernelspec": {
   "display_name": "Python 3",
   "language": "python",
   "name": "python3"
  },
  "language_info": {
   "codemirror_mode": {
    "name": "ipython",
    "version": 3
   },
   "file_extension": ".py",
   "mimetype": "text/x-python",
   "name": "python",
   "nbconvert_exporter": "python",
   "pygments_lexer": "ipython3",
   "version": "3.7.4"
  }
 },
 "nbformat": 4,
 "nbformat_minor": 2
}
